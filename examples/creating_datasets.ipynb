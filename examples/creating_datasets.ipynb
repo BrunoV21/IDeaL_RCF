{
 "cells": [
  {
   "cell_type": "code",
   "execution_count": 2,
   "metadata": {},
   "outputs": [],
   "source": [
    "import sys\n",
    "sys.path.append(\"../\")"
   ]
  },
  {
   "cell_type": "code",
   "execution_count": 3,
   "metadata": {},
   "outputs": [],
   "source": [
    "from ideal_rcf.dataloader.config import SetConfig, set_dataset_path\n",
    "from ideal_rcf.dataloader.caseset import CaseSet\n",
    "from ideal_rcf.dataloader.dataset import DataSet\n",
    "\n",
    "import os"
   ]
  },
  {
   "cell_type": "code",
   "execution_count": 4,
   "metadata": {},
   "outputs": [],
   "source": [
    "### Set DataSet Path ad Environ Var\n",
    "set_dataset_path()"
   ]
  },
  {
   "cell_type": "markdown",
   "metadata": {},
   "source": [
    "### Set Parameters"
   ]
  },
  {
   "cell_type": "code",
   "execution_count": 5,
   "metadata": {},
   "outputs": [],
   "source": [
    "dataset_path = os.getenv('DATASET_PATH')\n",
    "turb_dataset = 'komegasst'\n",
    "custom_turb_dataset = 'a_3_1_2_NL_S_DNS_eV'\n",
    "\n",
    "case = [\n",
    "    'PHLL_case_0p5',\n",
    "    'PHLL_case_0p8',\n",
    "    'PHLL_case_1p0',\n",
    "    'PHLL_case_1p2',\n",
    "    'PHLL_case_1p5'\n",
    "]\n",
    "\n",
    "trainset = [\n",
    "    'PHLL_case_0p5',\n",
    "    'PHLL_case_0p8',\n",
    "    'PHLL_case_1p5'\n",
    "]\n",
    "\n",
    "valset = [\n",
    "    'PHLL_case_1p0',\n",
    "]\n",
    "\n",
    "testset = [\n",
    "    'PHLL_case_1p2',\n",
    "]\n",
    "\n",
    "features_filter = ['I1_1', 'I1_2', 'I1_3', 'I1_4', 'I1_5', 'I1_6', 'I1_8', 'I1_9', 'I1_15', 'I1_17', 'I1_19', 'I2_3', 'I2_4', 'q_1', 'q_2']\n",
    "\n",
    "features = ['I1', 'I2', 'q']\n",
    "features_cardinality = [20, 20, 4]\n",
    "\n",
    "tensor_features = ['Tensors']\n",
    "tensor_features_linear = ['Shat']\n",
    "labels = ['a_NL']\n",
    "\n",
    "tensor_features_oev = ['S_DNS']\n",
    "labels_oev = ['a']"
   ]
  },
  {
   "cell_type": "markdown",
   "metadata": {},
   "source": [
    "### Example: Load all features with no filters nor transformations"
   ]
  },
  {
   "cell_type": "code",
   "execution_count": 6,
   "metadata": {},
   "outputs": [
    {
     "name": "stderr",
     "output_type": "stream",
     "text": [
      "  0%|          | 0/5 [00:00<?, ?it/s]"
     ]
    },
    {
     "name": "stdout",
     "output_type": "stream",
     "text": [
      "Standard case:\n"
     ]
    },
    {
     "name": "stderr",
     "output_type": "stream",
     "text": [
      "100%|██████████| 5/5 [00:03<00:00,  1.31it/s]"
     ]
    },
    {
     "name": "stdout",
     "output_type": "stream",
     "text": [
      "PHLL_case_0p5:\n",
      " > features (['I1', 'I2', 'q']): (14751, 98)\n",
      " > tensor_features (Tensors): (14751, 10, 3, 3)\n",
      " > tensor_features_linear (Shat): (14751, 3, 3)\n",
      " > labels (b): (14751, 3, 3)\n",
      " > Cx (Cx): (14751, 1)\n",
      " > Cy (Cy): (14751, 1)\n",
      "PHLL_case_0p8:\n",
      " > features (['I1', 'I2', 'q']): (14750, 98)\n",
      " > tensor_features (Tensors): (14750, 10, 3, 3)\n",
      " > tensor_features_linear (Shat): (14750, 3, 3)\n",
      " > labels (b): (14750, 3, 3)\n",
      " > Cx (Cx): (14750, 1)\n",
      " > Cy (Cy): (14750, 1)\n",
      "PHLL_case_1p0:\n",
      " > features (['I1', 'I2', 'q']): (14751, 98)\n",
      " > tensor_features (Tensors): (14751, 10, 3, 3)\n",
      " > tensor_features_linear (Shat): (14751, 3, 3)\n",
      " > labels (b): (14751, 3, 3)\n",
      " > Cx (Cx): (14751, 1)\n",
      " > Cy (Cy): (14751, 1)\n",
      "PHLL_case_1p2:\n",
      " > features (['I1', 'I2', 'q']): (14751, 98)\n",
      " > tensor_features (Tensors): (14751, 10, 3, 3)\n",
      " > tensor_features_linear (Shat): (14751, 3, 3)\n",
      " > labels (b): (14751, 3, 3)\n",
      " > Cx (Cx): (14751, 1)\n",
      " > Cy (Cy): (14751, 1)\n",
      "PHLL_case_1p5:\n",
      " > features (['I1', 'I2', 'q']): (14751, 98)\n",
      " > tensor_features (Tensors): (14751, 10, 3, 3)\n",
      " > tensor_features_linear (Shat): (14751, 3, 3)\n",
      " > labels (b): (14751, 3, 3)\n",
      " > Cx (Cx): (14751, 1)\n",
      " > Cy (Cy): (14751, 1)\n"
     ]
    },
    {
     "name": "stderr",
     "output_type": "stream",
     "text": [
      "\n"
     ]
    },
    {
     "data": {
      "text/plain": [
       "()"
      ]
     },
     "execution_count": 6,
     "metadata": {},
     "output_type": "execute_result"
    }
   ],
   "source": [
    "standard_case_test_configuration = SetConfig(\n",
    "    cases=case,\n",
    "    turb_dataset=turb_dataset,\n",
    "    dataset_path=dataset_path,\n",
    "    features=features,\n",
    "    tensor_features=tensor_features,\n",
    "    tensor_features_linear=tensor_features_linear,\n",
    "    labels='b'\n",
    ")\n",
    "\n",
    "all_features = standard_case_test_configuration.features_filter\n",
    "\n",
    "print('Standard case:')\n",
    "a = DataSet(set_config=standard_case_test_configuration)\n",
    "a.check_set()\n",
    "a.split_train_val_test()"
   ]
  },
  {
   "cell_type": "markdown",
   "metadata": {},
   "source": [
    "### Example: Using Features Filter"
   ]
  },
  {
   "cell_type": "code",
   "execution_count": 8,
   "metadata": {},
   "outputs": [
    {
     "name": "stderr",
     "output_type": "stream",
     "text": [
      " 20%|██        | 1/5 [00:00<00:00,  8.65it/s]"
     ]
    },
    {
     "name": "stdout",
     "output_type": "stream",
     "text": [
      "\n",
      "Custom turb dataset with features filter:\n",
      "\n",
      "[PHLL_case_0p5] sucessfuly filtered features ['I1', 'I2', 'q'] to ['I1_1', 'I1_2', 'I1_3', 'I1_4', 'I1_5', 'I1_6', 'I1_8', 'I1_9', 'I1_15', 'I1_17', 'I1_19', 'I2_3', 'I2_4', 'q_1', 'q_2']\n",
      "PHLL_case_0p5:\n",
      " > features (['I1', 'I2', 'q']): (14751, 15)\n",
      " > tensor_features (Tensors): (14751, 20, 3, 3)\n",
      " > tensor_features_linear (Shat): (14751, 3)\n",
      " > labels (a_NL): (14751, 3)\n",
      " > tensor_features_oev (S_DNS): (14751, 3)\n",
      " > Cx (Cx): (14751, 1)\n",
      " > Cy (Cy): (14751, 1)\n"
     ]
    },
    {
     "name": "stderr",
     "output_type": "stream",
     "text": [
      " 60%|██████    | 3/5 [00:00<00:00,  7.84it/s]"
     ]
    },
    {
     "name": "stdout",
     "output_type": "stream",
     "text": [
      "\n",
      "[PHLL_case_0p8] sucessfuly filtered features ['I1', 'I2', 'q'] to ['I1_1', 'I1_2', 'I1_3', 'I1_4', 'I1_5', 'I1_6', 'I1_8', 'I1_9', 'I1_15', 'I1_17', 'I1_19', 'I2_3', 'I2_4', 'q_1', 'q_2']\n",
      "PHLL_case_0p8:\n",
      " > features (['I1', 'I2', 'q']): (14750, 15)\n",
      " > tensor_features (Tensors): (14750, 20, 3, 3)\n",
      " > tensor_features_linear (Shat): (14750, 3)\n",
      " > labels (a_NL): (14750, 3)\n",
      " > tensor_features_oev (S_DNS): (14750, 3)\n",
      " > Cx (Cx): (14750, 1)\n",
      " > Cy (Cy): (14750, 1)\n",
      "\n",
      "[PHLL_case_1p0] sucessfuly filtered features ['I1', 'I2', 'q'] to ['I1_1', 'I1_2', 'I1_3', 'I1_4', 'I1_5', 'I1_6', 'I1_8', 'I1_9', 'I1_15', 'I1_17', 'I1_19', 'I2_3', 'I2_4', 'q_1', 'q_2']\n",
      "PHLL_case_1p0:\n",
      " > features (['I1', 'I2', 'q']): (14751, 15)\n",
      " > tensor_features (Tensors): (14751, 20, 3, 3)\n",
      " > tensor_features_linear (Shat): (14751, 3)\n",
      " > labels (a_NL): (14751, 3)\n",
      " > tensor_features_oev (S_DNS): (14751, 3)\n",
      " > Cx (Cx): (14751, 1)\n",
      " > Cy (Cy): (14751, 1)\n"
     ]
    },
    {
     "name": "stderr",
     "output_type": "stream",
     "text": [
      " 80%|████████  | 4/5 [00:00<00:00,  8.03it/s]"
     ]
    },
    {
     "name": "stdout",
     "output_type": "stream",
     "text": [
      "\n",
      "[PHLL_case_1p2] sucessfuly filtered features ['I1', 'I2', 'q'] to ['I1_1', 'I1_2', 'I1_3', 'I1_4', 'I1_5', 'I1_6', 'I1_8', 'I1_9', 'I1_15', 'I1_17', 'I1_19', 'I2_3', 'I2_4', 'q_1', 'q_2']\n",
      "PHLL_case_1p2:\n",
      " > features (['I1', 'I2', 'q']): (14751, 15)\n",
      " > tensor_features (Tensors): (14751, 20, 3, 3)\n",
      " > tensor_features_linear (Shat): (14751, 3)\n",
      " > labels (a_NL): (14751, 3)\n",
      " > tensor_features_oev (S_DNS): (14751, 3)\n",
      " > Cx (Cx): (14751, 1)\n",
      " > Cy (Cy): (14751, 1)\n"
     ]
    },
    {
     "name": "stderr",
     "output_type": "stream",
     "text": [
      "100%|██████████| 5/5 [00:00<00:00,  6.61it/s]"
     ]
    },
    {
     "name": "stdout",
     "output_type": "stream",
     "text": [
      "\n",
      "[PHLL_case_1p5] sucessfuly filtered features ['I1', 'I2', 'q'] to ['I1_1', 'I1_2', 'I1_3', 'I1_4', 'I1_5', 'I1_6', 'I1_8', 'I1_9', 'I1_15', 'I1_17', 'I1_19', 'I2_3', 'I2_4', 'q_1', 'q_2']\n",
      "PHLL_case_1p5:\n",
      " > features (['I1', 'I2', 'q']): (14751, 15)\n",
      " > tensor_features (Tensors): (14751, 20, 3, 3)\n",
      " > tensor_features_linear (Shat): (14751, 3)\n",
      " > labels (a_NL): (14751, 3)\n",
      " > tensor_features_oev (S_DNS): (14751, 3)\n",
      " > Cx (Cx): (14751, 1)\n",
      " > Cy (Cy): (14751, 1)\n",
      "PHLL_case_0p5:\n",
      " > features (['I1', 'I2', 'q']): (14751, 15)\n",
      " > tensor_features (Tensors): (14751, 20, 3, 3)\n",
      " > tensor_features_linear (Shat): (14751, 3)\n",
      " > labels (a_NL): (14751, 3)\n",
      " > tensor_features_oev (S_DNS): (14751, 3)\n",
      " > Cx (Cx): (14751, 1)\n",
      " > Cy (Cy): (14751, 1)\n",
      "PHLL_case_0p8:\n",
      " > features (['I1', 'I2', 'q']): (14750, 15)\n",
      " > tensor_features (Tensors): (14750, 20, 3, 3)\n",
      " > tensor_features_linear (Shat): (14750, 3)\n",
      " > labels (a_NL): (14750, 3)\n",
      " > tensor_features_oev (S_DNS): (14750, 3)\n",
      " > Cx (Cx): (14750, 1)\n",
      " > Cy (Cy): (14750, 1)\n",
      "PHLL_case_1p0:\n",
      " > features (['I1', 'I2', 'q']): (14751, 15)\n",
      " > tensor_features (Tensors): (14751, 20, 3, 3)\n",
      " > tensor_features_linear (Shat): (14751, 3)\n",
      " > labels (a_NL): (14751, 3)\n",
      " > tensor_features_oev (S_DNS): (14751, 3)\n",
      " > Cx (Cx): (14751, 1)\n",
      " > Cy (Cy): (14751, 1)\n",
      "PHLL_case_1p2:\n",
      " > features (['I1', 'I2', 'q']): (14751, 15)\n",
      " > tensor_features (Tensors): (14751, 20, 3, 3)\n",
      " > tensor_features_linear (Shat): (14751, 3)\n",
      " > labels (a_NL): (14751, 3)\n",
      " > tensor_features_oev (S_DNS): (14751, 3)\n",
      " > Cx (Cx): (14751, 1)\n",
      " > Cy (Cy): (14751, 1)\n",
      "PHLL_case_1p5:\n",
      " > features (['I1', 'I2', 'q']): (14751, 15)\n",
      " > tensor_features (Tensors): (14751, 20, 3, 3)\n",
      " > tensor_features_linear (Shat): (14751, 3)\n",
      " > labels (a_NL): (14751, 3)\n",
      " > tensor_features_oev (S_DNS): (14751, 3)\n",
      " > Cx (Cx): (14751, 1)\n",
      " > Cy (Cy): (14751, 1)\n"
     ]
    },
    {
     "name": "stderr",
     "output_type": "stream",
     "text": [
      "\n"
     ]
    },
    {
     "name": "stdout",
     "output_type": "stream",
     "text": [
      "[train] sucessfully stacked case ['PHLL_case_0p8'] into ['PHLL_case_0p5']\n",
      "[train] sucessfully stacked case ['PHLL_case_1p5'] into ['PHLL_case_0p5', 'PHLL_case_0p8']\n",
      "train:\n",
      " > features (['I1', 'I2', 'q']): (44252, 15)\n",
      " > tensor_features (Tensors): (44252, 20, 3, 3)\n",
      " > tensor_features_linear (Shat): (44252, 3)\n",
      " > labels (a_NL): (44252, 3)\n",
      " > tensor_features_oev (S_DNS): (44252, 3)\n",
      " > Cx (Cx): (44252, 1)\n",
      " > Cy (Cy): (44252, 1)\n",
      "val:\n",
      " > features (['I1', 'I2', 'q']): (14751, 15)\n",
      " > tensor_features (Tensors): (14751, 20, 3, 3)\n",
      " > tensor_features_linear (Shat): (14751, 3)\n",
      " > labels (a_NL): (14751, 3)\n",
      " > tensor_features_oev (S_DNS): (14751, 3)\n",
      " > Cx (Cx): (14751, 1)\n",
      " > Cy (Cy): (14751, 1)\n",
      "test:\n",
      " > features (['I1', 'I2', 'q']): (14751, 15)\n",
      " > tensor_features (Tensors): (14751, 20, 3, 3)\n",
      " > tensor_features_linear (Shat): (14751, 3)\n",
      " > labels (a_NL): (14751, 3)\n",
      " > tensor_features_oev (S_DNS): (14751, 3)\n",
      " > Cx (Cx): (14751, 1)\n",
      " > Cy (Cy): (14751, 1)\n"
     ]
    },
    {
     "data": {
      "text/plain": [
       "(<ideal_rcf.dataloader.caseset.CaseSet at 0x1acf67374c0>,\n",
       " <ideal_rcf.dataloader.caseset.CaseSet at 0x1ac803e80a0>,\n",
       " <ideal_rcf.dataloader.caseset.CaseSet at 0x1ac8015b5e0>)"
      ]
     },
     "execution_count": 8,
     "metadata": {},
     "output_type": "execute_result"
    }
   ],
   "source": [
    "optional_case_test_configuration = SetConfig(\n",
    "    cases=case,\n",
    "    turb_dataset=turb_dataset,\n",
    "    dataset_path=dataset_path,\n",
    "    trainset=trainset,\n",
    "    valset=valset,\n",
    "    testset=testset,\n",
    "    features=features,\n",
    "    tensor_features=tensor_features,\n",
    "    tensor_features_linear=tensor_features_linear,\n",
    "    labels=labels,\n",
    "    custom_turb_dataset=custom_turb_dataset,\n",
    "    tensor_features_oev=tensor_features_oev,\n",
    "    # labels_oev=labels_oev,\n",
    "    features_filter=features_filter,\n",
    "    features_cardinality=features_cardinality,\n",
    "    debug=True,\n",
    ")\n",
    "\n",
    "print('\\nCustom turb dataset with features filter:')\n",
    "b = DataSet(set_config=optional_case_test_configuration)\n",
    "b.check_set()\n",
    "b.split_train_val_test()"
   ]
  },
  {
   "cell_type": "markdown",
   "metadata": {},
   "source": [
    "### Example: Using features filter and Mixer Config"
   ]
  },
  {
   "cell_type": "code",
   "execution_count": 10,
   "metadata": {},
   "outputs": [
    {
     "name": "stderr",
     "output_type": "stream",
     "text": [
      "  0%|          | 0/5 [00:00<?, ?it/s]"
     ]
    },
    {
     "name": "stdout",
     "output_type": "stream",
     "text": [
      "\n",
      "Custom turb dataset with features filter and mixer enabled:\n",
      "\n",
      "[PHLL_case_0p5] sucessfuly filtered features ['I1', 'I2', 'q'] to ['I1_1', 'I1_2', 'I1_3', 'I1_4', 'I1_5', 'I1_6', 'I1_8', 'I1_9', 'I1_15', 'I1_17', 'I1_19', 'I2_3', 'I2_4', 'q_1', 'q_2']\n",
      "PHLL_case_0p5:\n",
      " > features (['I1', 'I2', 'q']): (14751, 15)\n",
      " > tensor_features (Tensors): (14751, 20, 3, 3)\n",
      " > tensor_features_linear (Shat): (14751, 3)\n",
      " > labels (a_NL): (14751, 3)\n",
      " > tensor_features_oev (S_DNS): (14751, 3)\n",
      " > Cx (Cx): (14751, 1)\n",
      " > Cy (Cy): (14751, 1)\n"
     ]
    },
    {
     "name": "stderr",
     "output_type": "stream",
     "text": [
      " 60%|██████    | 3/5 [00:00<00:00,  8.28it/s]"
     ]
    },
    {
     "name": "stdout",
     "output_type": "stream",
     "text": [
      "\n",
      "[PHLL_case_0p8] sucessfuly filtered features ['I1', 'I2', 'q'] to ['I1_1', 'I1_2', 'I1_3', 'I1_4', 'I1_5', 'I1_6', 'I1_8', 'I1_9', 'I1_15', 'I1_17', 'I1_19', 'I2_3', 'I2_4', 'q_1', 'q_2']\n",
      "PHLL_case_0p8:\n",
      " > features (['I1', 'I2', 'q']): (14750, 15)\n",
      " > tensor_features (Tensors): (14750, 20, 3, 3)\n",
      " > tensor_features_linear (Shat): (14750, 3)\n",
      " > labels (a_NL): (14750, 3)\n",
      " > tensor_features_oev (S_DNS): (14750, 3)\n",
      " > Cx (Cx): (14750, 1)\n",
      " > Cy (Cy): (14750, 1)\n",
      "\n",
      "[PHLL_case_1p0] sucessfuly filtered features ['I1', 'I2', 'q'] to ['I1_1', 'I1_2', 'I1_3', 'I1_4', 'I1_5', 'I1_6', 'I1_8', 'I1_9', 'I1_15', 'I1_17', 'I1_19', 'I2_3', 'I2_4', 'q_1', 'q_2']\n",
      "PHLL_case_1p0:\n",
      " > features (['I1', 'I2', 'q']): (14751, 15)\n",
      " > tensor_features (Tensors): (14751, 20, 3, 3)\n",
      " > tensor_features_linear (Shat): (14751, 3)\n",
      " > labels (a_NL): (14751, 3)\n",
      " > tensor_features_oev (S_DNS): (14751, 3)\n",
      " > Cx (Cx): (14751, 1)\n",
      " > Cy (Cy): (14751, 1)\n"
     ]
    },
    {
     "name": "stderr",
     "output_type": "stream",
     "text": [
      "100%|██████████| 5/5 [00:00<00:00,  7.67it/s]"
     ]
    },
    {
     "name": "stdout",
     "output_type": "stream",
     "text": [
      "\n",
      "[PHLL_case_1p2] sucessfuly filtered features ['I1', 'I2', 'q'] to ['I1_1', 'I1_2', 'I1_3', 'I1_4', 'I1_5', 'I1_6', 'I1_8', 'I1_9', 'I1_15', 'I1_17', 'I1_19', 'I2_3', 'I2_4', 'q_1', 'q_2']\n",
      "PHLL_case_1p2:\n",
      " > features (['I1', 'I2', 'q']): (14751, 15)\n",
      " > tensor_features (Tensors): (14751, 20, 3, 3)\n",
      " > tensor_features_linear (Shat): (14751, 3)\n",
      " > labels (a_NL): (14751, 3)\n",
      " > tensor_features_oev (S_DNS): (14751, 3)\n",
      " > Cx (Cx): (14751, 1)\n",
      " > Cy (Cy): (14751, 1)\n",
      "\n",
      "[PHLL_case_1p5] sucessfuly filtered features ['I1', 'I2', 'q'] to ['I1_1', 'I1_2', 'I1_3', 'I1_4', 'I1_5', 'I1_6', 'I1_8', 'I1_9', 'I1_15', 'I1_17', 'I1_19', 'I2_3', 'I2_4', 'q_1', 'q_2']\n",
      "PHLL_case_1p5:\n",
      " > features (['I1', 'I2', 'q']): (14751, 15)\n",
      " > tensor_features (Tensors): (14751, 20, 3, 3)\n",
      " > tensor_features_linear (Shat): (14751, 3)\n",
      " > labels (a_NL): (14751, 3)\n",
      " > tensor_features_oev (S_DNS): (14751, 3)\n",
      " > Cx (Cx): (14751, 1)\n",
      " > Cy (Cy): (14751, 1)\n",
      "PHLL_case_0p5:\n",
      " > features (['I1', 'I2', 'q']): (14751, 15)\n",
      " > tensor_features (Tensors): (14751, 20, 3, 3)\n",
      " > tensor_features_linear (Shat): (14751, 3)\n",
      " > labels (a_NL): (14751, 3)\n",
      " > tensor_features_oev (S_DNS): (14751, 3)\n",
      " > Cx (Cx): (14751, 1)\n",
      " > Cy (Cy): (14751, 1)\n",
      "PHLL_case_0p8:\n",
      " > features (['I1', 'I2', 'q']): (14750, 15)\n",
      " > tensor_features (Tensors): (14750, 20, 3, 3)\n",
      " > tensor_features_linear (Shat): (14750, 3)\n",
      " > labels (a_NL): (14750, 3)\n",
      " > tensor_features_oev (S_DNS): (14750, 3)\n",
      " > Cx (Cx): (14750, 1)\n",
      " > Cy (Cy): (14750, 1)\n",
      "PHLL_case_1p0:\n",
      " > features (['I1', 'I2', 'q']): (14751, 15)\n",
      " > tensor_features (Tensors): (14751, 20, 3, 3)\n",
      " > tensor_features_linear (Shat): (14751, 3)\n",
      " > labels (a_NL): (14751, 3)\n",
      " > tensor_features_oev (S_DNS): (14751, 3)\n",
      " > Cx (Cx): (14751, 1)\n",
      " > Cy (Cy): (14751, 1)\n",
      "PHLL_case_1p2:\n",
      " > features (['I1', 'I2', 'q']): (14751, 15)\n",
      " > tensor_features (Tensors): (14751, 20, 3, 3)\n",
      " > tensor_features_linear (Shat): (14751, 3)\n",
      " > labels (a_NL): (14751, 3)\n",
      " > tensor_features_oev (S_DNS): (14751, 3)\n",
      " > Cx (Cx): (14751, 1)\n",
      " > Cy (Cy): (14751, 1)\n",
      "PHLL_case_1p5:\n",
      " > features (['I1', 'I2', 'q']): (14751, 15)\n",
      " > tensor_features (Tensors): (14751, 20, 3, 3)\n",
      " > tensor_features_linear (Shat): (14751, 3)\n",
      " > labels (a_NL): (14751, 3)\n",
      " > tensor_features_oev (S_DNS): (14751, 3)\n",
      " > Cx (Cx): (14751, 1)\n",
      " > Cy (Cy): (14751, 1)\n"
     ]
    },
    {
     "name": "stderr",
     "output_type": "stream",
     "text": [
      "\n"
     ]
    },
    {
     "name": "stdout",
     "output_type": "stream",
     "text": [
      "[train] sucessfully stacked case ['PHLL_case_0p8'] into ['PHLL_case_0p5']\n",
      "[train] sucessfully stacked case ['PHLL_case_1p5'] into ['PHLL_case_0p5', 'PHLL_case_0p8']\n",
      "train:\n",
      " > features (['I1', 'I2', 'q']): (44252, 15)\n",
      " > tensor_features (Tensors): (44252, 20, 3, 3)\n",
      " > tensor_features_linear (Shat): (44252, 3)\n",
      " > labels (a_NL): (44252, 3)\n",
      " > tensor_features_oev (S_DNS): (44252, 3)\n",
      " > Cx (Cx): (44252, 1)\n",
      " > Cy (Cy): (44252, 1)\n",
      "val:\n",
      " > features (['I1', 'I2', 'q']): (14751, 15)\n",
      " > tensor_features (Tensors): (14751, 20, 3, 3)\n",
      " > tensor_features_linear (Shat): (14751, 3)\n",
      " > labels (a_NL): (14751, 3)\n",
      " > tensor_features_oev (S_DNS): (14751, 3)\n",
      " > Cx (Cx): (14751, 1)\n",
      " > Cy (Cy): (14751, 1)\n",
      "test:\n",
      " > features (['I1', 'I2', 'q']): (14751, 15)\n",
      " > tensor_features (Tensors): (14751, 20, 3, 3)\n",
      " > tensor_features_linear (Shat): (14751, 3)\n",
      " > labels (a_NL): (14751, 3)\n",
      " > tensor_features_oev (S_DNS): (14751, 3)\n",
      " > Cx (Cx): (14751, 1)\n",
      " > Cy (Cy): (14751, 1)\n"
     ]
    }
   ],
   "source": [
    "mixer_case_test_configuration = SetConfig(\n",
    "    cases=case,\n",
    "    turb_dataset=turb_dataset,\n",
    "    dataset_path=dataset_path,\n",
    "    trainset=trainset,\n",
    "    valset=valset,\n",
    "    testset=testset,\n",
    "    features=features,\n",
    "    tensor_features=tensor_features,\n",
    "    tensor_features_linear=tensor_features_linear,\n",
    "    labels=labels,\n",
    "    custom_turb_dataset=custom_turb_dataset,\n",
    "    tensor_features_oev=tensor_features_oev,\n",
    "    # labels_oev=labels_oev,\n",
    "    features_filter=features_filter,\n",
    "    features_cardinality=features_cardinality,\n",
    "    enable_mixer=True,\n",
    "    debug=True,\n",
    ")\n",
    "\n",
    "print('\\nCustom turb dataset with features filter and mixer enabled:')\n",
    "c = DataSet(set_config=mixer_case_test_configuration)\n",
    "c.check_set()\n",
    "train, val, test = c.split_train_val_test()\n",
    "train.shuffle()\n",
    "val.shuffle()"
   ]
  },
  {
   "cell_type": "markdown",
   "metadata": {},
   "source": [
    "### Example: Using features filter and Mixer Config but no Test set"
   ]
  },
  {
   "cell_type": "code",
   "execution_count": 11,
   "metadata": {},
   "outputs": [
    {
     "name": "stderr",
     "output_type": "stream",
     "text": [
      "  0%|          | 0/5 [00:00<?, ?it/s]"
     ]
    },
    {
     "name": "stdout",
     "output_type": "stream",
     "text": [
      "\n",
      "Custom turb dataset with features filter and mixer enabled:\n",
      "\n",
      "[PHLL_case_0p5] sucessfuly filtered features ['I1', 'I2', 'q'] to ['I1_1', 'I1_2', 'I1_3', 'I1_4', 'I1_5', 'I1_6', 'I1_8', 'I1_9', 'I1_15', 'I1_17', 'I1_19', 'I2_3', 'I2_4', 'q_1', 'q_2']\n",
      "PHLL_case_0p5:\n",
      " > features (['I1', 'I2', 'q']): (14751, 15)\n",
      " > tensor_features (Tensors): (14751, 20, 3, 3)\n",
      " > tensor_features_linear (Shat): (14751, 3)\n",
      " > labels (a_NL): (14751, 3)\n",
      " > tensor_features_oev (S_DNS): (14751, 3)\n",
      " > Cx (Cx): (14751, 1)\n",
      " > Cy (Cy): (14751, 1)\n",
      "\n",
      "[PHLL_case_0p8] sucessfuly filtered features ['I1', 'I2', 'q'] to ['I1_1', 'I1_2', 'I1_3', 'I1_4', 'I1_5', 'I1_6', 'I1_8', 'I1_9', 'I1_15', 'I1_17', 'I1_19', 'I2_3', 'I2_4', 'q_1', 'q_2']\n"
     ]
    },
    {
     "name": "stderr",
     "output_type": "stream",
     "text": [
      " 60%|██████    | 3/5 [00:00<00:00,  8.62it/s]"
     ]
    },
    {
     "name": "stdout",
     "output_type": "stream",
     "text": [
      "PHLL_case_0p8:\n",
      " > features (['I1', 'I2', 'q']): (14750, 15)\n",
      " > tensor_features (Tensors): (14750, 20, 3, 3)\n",
      " > tensor_features_linear (Shat): (14750, 3)\n",
      " > labels (a_NL): (14750, 3)\n",
      " > tensor_features_oev (S_DNS): (14750, 3)\n",
      " > Cx (Cx): (14750, 1)\n",
      " > Cy (Cy): (14750, 1)\n",
      "\n",
      "[PHLL_case_1p0] sucessfuly filtered features ['I1', 'I2', 'q'] to ['I1_1', 'I1_2', 'I1_3', 'I1_4', 'I1_5', 'I1_6', 'I1_8', 'I1_9', 'I1_15', 'I1_17', 'I1_19', 'I2_3', 'I2_4', 'q_1', 'q_2']\n",
      "PHLL_case_1p0:\n",
      " > features (['I1', 'I2', 'q']): (14751, 15)\n",
      " > tensor_features (Tensors): (14751, 20, 3, 3)\n",
      " > tensor_features_linear (Shat): (14751, 3)\n",
      " > labels (a_NL): (14751, 3)\n",
      " > tensor_features_oev (S_DNS): (14751, 3)\n",
      " > Cx (Cx): (14751, 1)\n",
      " > Cy (Cy): (14751, 1)\n"
     ]
    },
    {
     "name": "stderr",
     "output_type": "stream",
     "text": [
      "100%|██████████| 5/5 [00:00<00:00,  8.44it/s]"
     ]
    },
    {
     "name": "stdout",
     "output_type": "stream",
     "text": [
      "\n",
      "[PHLL_case_1p2] sucessfuly filtered features ['I1', 'I2', 'q'] to ['I1_1', 'I1_2', 'I1_3', 'I1_4', 'I1_5', 'I1_6', 'I1_8', 'I1_9', 'I1_15', 'I1_17', 'I1_19', 'I2_3', 'I2_4', 'q_1', 'q_2']\n",
      "PHLL_case_1p2:\n",
      " > features (['I1', 'I2', 'q']): (14751, 15)\n",
      " > tensor_features (Tensors): (14751, 20, 3, 3)\n",
      " > tensor_features_linear (Shat): (14751, 3)\n",
      " > labels (a_NL): (14751, 3)\n",
      " > tensor_features_oev (S_DNS): (14751, 3)\n",
      " > Cx (Cx): (14751, 1)\n",
      " > Cy (Cy): (14751, 1)\n",
      "\n",
      "[PHLL_case_1p5] sucessfuly filtered features ['I1', 'I2', 'q'] to ['I1_1', 'I1_2', 'I1_3', 'I1_4', 'I1_5', 'I1_6', 'I1_8', 'I1_9', 'I1_15', 'I1_17', 'I1_19', 'I2_3', 'I2_4', 'q_1', 'q_2']\n",
      "PHLL_case_1p5:\n",
      " > features (['I1', 'I2', 'q']): (14751, 15)\n",
      " > tensor_features (Tensors): (14751, 20, 3, 3)\n",
      " > tensor_features_linear (Shat): (14751, 3)\n",
      " > labels (a_NL): (14751, 3)\n",
      " > tensor_features_oev (S_DNS): (14751, 3)\n",
      " > Cx (Cx): (14751, 1)\n",
      " > Cy (Cy): (14751, 1)\n",
      "PHLL_case_0p5:\n",
      " > features (['I1', 'I2', 'q']): (14751, 15)\n",
      " > tensor_features (Tensors): (14751, 20, 3, 3)\n",
      " > tensor_features_linear (Shat): (14751, 3)\n",
      " > labels (a_NL): (14751, 3)\n",
      " > tensor_features_oev (S_DNS): (14751, 3)\n",
      " > Cx (Cx): (14751, 1)\n",
      " > Cy (Cy): (14751, 1)\n",
      "PHLL_case_0p8:\n",
      " > features (['I1', 'I2', 'q']): (14750, 15)\n",
      " > tensor_features (Tensors): (14750, 20, 3, 3)\n",
      " > tensor_features_linear (Shat): (14750, 3)\n",
      " > labels (a_NL): (14750, 3)\n",
      " > tensor_features_oev (S_DNS): (14750, 3)\n",
      " > Cx (Cx): (14750, 1)\n",
      " > Cy (Cy): (14750, 1)\n",
      "PHLL_case_1p0:\n",
      " > features (['I1', 'I2', 'q']): (14751, 15)\n",
      " > tensor_features (Tensors): (14751, 20, 3, 3)\n",
      " > tensor_features_linear (Shat): (14751, 3)\n",
      " > labels (a_NL): (14751, 3)\n",
      " > tensor_features_oev (S_DNS): (14751, 3)\n",
      " > Cx (Cx): (14751, 1)\n",
      " > Cy (Cy): (14751, 1)\n",
      "PHLL_case_1p2:\n",
      " > features (['I1', 'I2', 'q']): (14751, 15)\n",
      " > tensor_features (Tensors): (14751, 20, 3, 3)\n",
      " > tensor_features_linear (Shat): (14751, 3)\n",
      " > labels (a_NL): (14751, 3)\n",
      " > tensor_features_oev (S_DNS): (14751, 3)\n",
      " > Cx (Cx): (14751, 1)\n",
      " > Cy (Cy): (14751, 1)\n",
      "PHLL_case_1p5:\n",
      " > features (['I1', 'I2', 'q']): (14751, 15)\n",
      " > tensor_features (Tensors): (14751, 20, 3, 3)\n",
      " > tensor_features_linear (Shat): (14751, 3)\n",
      " > labels (a_NL): (14751, 3)\n",
      " > tensor_features_oev (S_DNS): (14751, 3)\n",
      " > Cx (Cx): (14751, 1)\n",
      " > Cy (Cy): (14751, 1)\n"
     ]
    },
    {
     "name": "stderr",
     "output_type": "stream",
     "text": [
      "\n"
     ]
    },
    {
     "name": "stdout",
     "output_type": "stream",
     "text": [
      "[train] sucessfully stacked case ['PHLL_case_0p8'] into ['PHLL_case_0p5']\n",
      "[train] sucessfully stacked case ['PHLL_case_1p5'] into ['PHLL_case_0p5', 'PHLL_case_0p8']\n",
      "train:\n",
      " > features (['I1', 'I2', 'q']): (44252, 15)\n",
      " > tensor_features (Tensors): (44252, 20, 3, 3)\n",
      " > tensor_features_linear (Shat): (44252, 3)\n",
      " > labels (a_NL): (44252, 3)\n",
      " > tensor_features_oev (S_DNS): (44252, 3)\n",
      " > Cx (Cx): (44252, 1)\n",
      " > Cy (Cy): (44252, 1)\n",
      "val:\n",
      " > features (['I1', 'I2', 'q']): (14751, 15)\n",
      " > tensor_features (Tensors): (14751, 20, 3, 3)\n",
      " > tensor_features_linear (Shat): (14751, 3)\n",
      " > labels (a_NL): (14751, 3)\n",
      " > tensor_features_oev (S_DNS): (14751, 3)\n",
      " > Cx (Cx): (14751, 1)\n",
      " > Cy (Cy): (14751, 1)\n"
     ]
    }
   ],
   "source": [
    "no_test_mixer_case_test_configuration = SetConfig(\n",
    "    cases=case,\n",
    "    turb_dataset=turb_dataset,\n",
    "    dataset_path=dataset_path,\n",
    "    trainset=trainset,\n",
    "    valset=valset,\n",
    "    # testset=testset,\n",
    "    features=features,\n",
    "    tensor_features=tensor_features,\n",
    "    tensor_features_linear=tensor_features_linear,\n",
    "    labels=labels,\n",
    "    custom_turb_dataset=custom_turb_dataset,\n",
    "    tensor_features_oev=tensor_features_oev,\n",
    "    # labels_oev=labels_oev,\n",
    "    features_filter=features_filter,\n",
    "    features_cardinality=features_cardinality,\n",
    "    enable_mixer=True,\n",
    "    debug=True,\n",
    ")\n",
    "\n",
    "print('\\nCustom turb dataset with features filter and mixer enabled:')\n",
    "d = DataSet(set_config=no_test_mixer_case_test_configuration)\n",
    "d.check_set()\n",
    "train, val, = d.split_train_val_test()\n",
    "train.shuffle()\n",
    "val.shuffle()"
   ]
  }
 ],
 "metadata": {
  "kernelspec": {
   "display_name": "ktxs",
   "language": "python",
   "name": "python3"
  },
  "language_info": {
   "codemirror_mode": {
    "name": "ipython",
    "version": 3
   },
   "file_extension": ".py",
   "mimetype": "text/x-python",
   "name": "python",
   "nbconvert_exporter": "python",
   "pygments_lexer": "ipython3",
   "version": "3.9.16"
  }
 },
 "nbformat": 4,
 "nbformat_minor": 2
}
