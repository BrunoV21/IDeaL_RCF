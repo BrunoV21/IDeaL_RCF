{
 "cells": [
  {
   "cell_type": "code",
   "execution_count": 1,
   "metadata": {},
   "outputs": [],
   "source": [
    "import sys\n",
    "sys.path.append(\"../\")"
   ]
  },
  {
   "cell_type": "code",
   "execution_count": 2,
   "metadata": {},
   "outputs": [],
   "source": [
    "from ideal_rcf.dataloader.config import SetConfig, set_dataset_path\n",
    "from ideal_rcf.dataloader.caseset import CaseSet\n",
    "\n",
    "import os"
   ]
  },
  {
   "cell_type": "code",
   "execution_count": 3,
   "metadata": {},
   "outputs": [],
   "source": [
    "### Set DataSet Path ad Environ Var\n",
    "set_dataset_path()"
   ]
  },
  {
   "cell_type": "markdown",
   "metadata": {},
   "source": [
    "### CaseSet Parameters"
   ]
  },
  {
   "cell_type": "code",
   "execution_count": 4,
   "metadata": {},
   "outputs": [],
   "source": [
    "dataset_path = os.getenv('DATASET_PATH')\n",
    "turb_dataset = 'komegasst'\n",
    "custom_turb_dataset = 'a_3_1_2_NL_S_DNS_eV'\n",
    "\n",
    "case = 'PHLL_case_1p2'\n",
    "features_filter = ['I1_1', 'I1_2', 'I1_3', 'I1_4', 'I1_5', 'I1_6', 'I1_8', 'I1_9', 'I1_15', 'I1_17', 'I1_19', 'I2_3', 'I2_4', 'q_1', 'q_2']\n",
    "features_cardinality = [20, 20, 4]\n",
    "\n",
    "features_transforms = ['multi_sign_cbrt', 'same_sign_log']\n",
    "skip_features_transforms_for = ['I1_2', 'I1_5', 'I1_8','I1_15','I1_17', 'I1_19', 'q_1', 'q_2', 'q_3', 'q_4']\n",
    "\n",
    "features = ['I1', 'I2', 'q']\n",
    "tensor_features = ['Tensors']\n",
    "tensor_features_linear = ['Shat']\n",
    "labels = ['a_NL']\n",
    "\n",
    "tensor_features_oev = ['S_DNS']\n",
    "labels_oev = ['a']\n",
    "\n",
    "features_z_score_outliers_threshold = 10"
   ]
  },
  {
   "cell_type": "markdown",
   "metadata": {},
   "source": [
    "### Example: Load all features with no filters nor transformations"
   ]
  },
  {
   "cell_type": "code",
   "execution_count": 5,
   "metadata": {},
   "outputs": [
    {
     "name": "stdout",
     "output_type": "stream",
     "text": [
      "Standard case:\n",
      "PHLL_case_1p2:\n",
      " > features (['I1', 'I2', 'q']): (14751, 98)\n",
      " > tensor_features (Tensors): (14751, 10, 3, 3)\n",
      " > tensor_features_linear (Shat): (14751, 3, 3)\n",
      " > labels (b): (14751, 3, 3)\n",
      " > Cx (Cx): (14751, 1)\n",
      " > Cy (Cy): (14751, 1)\n",
      "All extracted features based on cardinality: ['I1_1', 'I1_2', 'I1_3', 'I1_4', 'I1_5', 'I1_6', 'I1_7', 'I1_8', 'I1_9', 'I1_10', 'I1_11', 'I1_12', 'I1_13', 'I1_14', 'I1_15', 'I1_16', 'I1_17', 'I1_18', 'I1_19', 'I1_20', 'I2_1', 'I2_2', 'I2_3', 'I2_4', 'I2_5', 'I2_6', 'I2_7', 'I2_8', 'I2_9', 'I2_10', 'I2_11', 'I2_12', 'I2_13', 'I2_14', 'I2_15', 'I2_16', 'I2_17', 'I2_18', 'I2_19', 'I2_20', 'q_1', 'q_2', 'q_3', 'q_4']\n"
     ]
    }
   ],
   "source": [
    "standard_case_test_configuration = SetConfig(\n",
    "    cases=case,\n",
    "    turb_dataset=turb_dataset,\n",
    "    dataset_path=dataset_path,\n",
    "    features=features,\n",
    "    features_cardinality = features_cardinality,\n",
    "    tensor_features=tensor_features,\n",
    "    tensor_features_linear=tensor_features_linear,\n",
    "    labels='b',\n",
    "    debug=True\n",
    ")\n",
    "all_features = standard_case_test_configuration.features_filter\n",
    "\n",
    "print('Standard case:')\n",
    "CaseSet(case, set_config=standard_case_test_configuration)\n",
    "print(f'All extracted features based on cardinality: {all_features}')"
   ]
  },
  {
   "cell_type": "markdown",
   "metadata": {},
   "source": [
    "### Example: Using Features Filter"
   ]
  },
  {
   "cell_type": "code",
   "execution_count": 6,
   "metadata": {},
   "outputs": [
    {
     "name": "stdout",
     "output_type": "stream",
     "text": [
      "\n",
      "Custom turb dataset with features filter:\n",
      "PHLL_case_1p2:\n",
      " > features (['I1', 'I2', 'q']): (14751, 15)\n",
      " > tensor_features (Tensors): (14751, 20, 3, 3)\n",
      " > tensor_features_linear (Shat): (14751, 3)\n",
      " > labels (a_NL): (14751, 4)\n",
      " > Cx (Cx): (14751, 1)\n",
      " > Cy (Cy): (14751, 1)\n"
     ]
    }
   ],
   "source": [
    "optional_case_test_configuration = SetConfig(\n",
    "        cases=case,\n",
    "        turb_dataset=turb_dataset,\n",
    "        dataset_path=dataset_path,\n",
    "        features=features,\n",
    "        tensor_features=tensor_features,\n",
    "        tensor_features_linear=tensor_features_linear,\n",
    "        labels=labels,\n",
    "        custom_turb_dataset=custom_turb_dataset,\n",
    "        # tensor_features_oev=tensor_features_oev,\n",
    "        # labels_oev=labels_oev,\n",
    "        features_filter=features_filter,\n",
    "        features_cardinality=features_cardinality\n",
    "    )\n",
    "\n",
    "print('\\nCustom turb dataset with features filter:')\n",
    "CaseSet(case, set_config=optional_case_test_configuration).check_set()"
   ]
  },
  {
   "cell_type": "markdown",
   "metadata": {},
   "source": [
    "### Example: Using features filter, remove outliers and features transforms"
   ]
  },
  {
   "cell_type": "code",
   "execution_count": 7,
   "metadata": {},
   "outputs": [
    {
     "name": "stdout",
     "output_type": "stream",
     "text": [
      "\n",
      "Custom turb dataset with features filter, no SHAT term and remove outliers, and features transforms:\n",
      "\n",
      "[PHLL_case_1p2] sucessfuly filtered features ['I1', 'I2', 'q'] to ['I1_1', 'I1_2', 'I1_3', 'I1_4', 'I1_5', 'I1_6', 'I1_8', 'I1_9', 'I1_15', 'I1_17', 'I1_19', 'I2_3', 'I2_4', 'q_1', 'q_2']\n",
      "[PHLL_case_1p2] Found 111 outliers in ['I1', 'I2', 'q'] feature set\n",
      "PHLL_case_1p2:\n",
      " > features (['I1', 'I2', 'q']): (14640, 15)\n",
      " > tensor_features (Tensors): (14640, 20, 3, 3)\n",
      " > labels (a_NL): (14640, 3)\n",
      " > tensor_features_oev (S_DNS): (14640, 3)\n",
      " > Cx (Cx): (14640, 1)\n",
      " > Cy (Cy): (14640, 1)\n"
     ]
    },
    {
     "data": {
      "text/plain": [
       "<ideal_rcf.dataloader.caseset.CaseSet at 0x19680b62d90>"
      ]
     },
     "execution_count": 7,
     "metadata": {},
     "output_type": "execute_result"
    }
   ],
   "source": [
    "extra_optional_case_test_configuration = SetConfig(\n",
    "    cases=case,\n",
    "    turb_dataset=turb_dataset,\n",
    "    dataset_path=dataset_path,\n",
    "    features=features,\n",
    "    tensor_features=tensor_features,\n",
    "    features_z_score_outliers_threshold=features_z_score_outliers_threshold,\n",
    "    # tensor_features_linear=tensor_features_linear,\n",
    "    labels=labels,\n",
    "    custom_turb_dataset=custom_turb_dataset,\n",
    "    tensor_features_oev=tensor_features_oev,\n",
    "    # labels_oev=labels_oev,\n",
    "    features_filter=features_filter,\n",
    "    features_cardinality=features_cardinality,\n",
    "    features_transforms=features_transforms,\n",
    "    skip_features_transforms_for=skip_features_transforms_for,\n",
    "    debug=True\n",
    ")\n",
    "\n",
    "print('\\nCustom turb dataset with features filter, no SHAT term and remove outliers, and features transforms:')\n",
    "CaseSet(case, set_config=extra_optional_case_test_configuration)"
   ]
  }
 ],
 "metadata": {
  "kernelspec": {
   "display_name": "ktxs",
   "language": "python",
   "name": "python3"
  },
  "language_info": {
   "codemirror_mode": {
    "name": "ipython",
    "version": 3
   },
   "file_extension": ".py",
   "mimetype": "text/x-python",
   "name": "python",
   "nbconvert_exporter": "python",
   "pygments_lexer": "ipython3",
   "version": "3.9.16"
  }
 },
 "nbformat": 4,
 "nbformat_minor": 2
}
